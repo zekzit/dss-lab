{
 "cells": [
  {
   "cell_type": "code",
   "execution_count": 15,
   "metadata": {
    "collapsed": true
   },
   "outputs": [],
   "source": [
    "# scikit-mcda\n",
    "# https://pypi.org/project/scikit-mcda/"
   ]
  },
  {
   "cell_type": "code",
   "execution_count": 16,
   "outputs": [],
   "source": [
    "from scikitmcda.topsis import TOPSIS\n",
    "from scikitmcda.wsm import WSM\n",
    "from scikitmcda.wpm import WPM\n",
    "from scikitmcda.waspas import WASPAS\n",
    "from scikitmcda.promethee_ii import PROMETHEE_II\n",
    "from scikitmcda.electre_i import ELECTRE_I\n",
    "from scikitmcda.electre_ii import ELECTRE_II\n",
    "from scikitmcda.vikor import VIKOR\n",
    "from scikitmcda.constants import MAX, MIN, LinearMinMax_, LinearMax_, LinearSum_, Vector_, EnhancedAccuracy_, Logarithmic_"
   ],
   "metadata": {
    "collapsed": false,
    "pycharm": {
     "name": "#%%\n"
    }
   }
  },
  {
   "cell_type": "code",
   "execution_count": 17,
   "outputs": [
    {
     "name": "stdout",
     "output_type": "stream",
     "text": [
      "+----+----------------+--------+-----------+----------+----------+\n",
      "|    | alternatives   |   COST |   STORAGE |   CAMERA |   DESIGN |\n",
      "|----+----------------+--------+-----------+----------+----------|\n",
      "|  0 | Mobile 1       |    250 |        16 |       12 |        5 |\n",
      "|  1 | Mobile 2       |    200 |        16 |        8 |        3 |\n",
      "|  2 | Mobile 3       |    300 |        32 |       16 |        4 |\n",
      "|  3 | Mobile 4       |    275 |        32 |        8 |        4 |\n",
      "|  4 | Mobile 5       |    225 |        16 |       16 |        2 |\n",
      "+----+----------------+--------+-----------+----------+----------+\n"
     ]
    }
   ],
   "source": [
    "topsis = TOPSIS()\n",
    "\n",
    "topsis.dataframe([[250, 16, 12, 5],\n",
    "                  [200, 16,  8, 3],\n",
    "                  [300, 32, 16, 4],\n",
    "                  [275, 32,  8, 4],\n",
    "                  [225, 16,  16, 2]],\n",
    "                 [\"Mobile 1\", \"Mobile 2\", \"Mobile 3\", \"Mobile 4\", \"Mobile 5\"],\n",
    "                 [\"COST\", \"STORAGE\", \"CAMERA\", \"DESIGN\"]\n",
    "                 )\n",
    "print(topsis.pretty_original())"
   ],
   "metadata": {
    "collapsed": false,
    "pycharm": {
     "name": "#%%\n"
    }
   }
  },
  {
   "cell_type": "code",
   "execution_count": 18,
   "outputs": [
    {
     "name": "stdout",
     "output_type": "stream",
     "text": [
      "AHP Returned:\n",
      " None\n"
     ]
    }
   ],
   "source": [
    "# topsis.set_weights_manually([0.5918, 0.2394, 0.1151, 0.0537])\n",
    "# topsis.set_weights_by_entropy()\n",
    "# topsis.set_weights_by_ranking_B_POW(0)\n",
    "\n",
    "                                   # C1   C2     C3   C4\n",
    "w_AHP = topsis.set_weights_by_AHP([[  1,    4,    5,   7],   # C1\n",
    "                                   [1/4,    1,    3,   5],   # C2\n",
    "                                   [1/5,  1/3,    1,   3],   # C3\n",
    "                                   [1/7,  1/5,  1/3,   1]])  # C4\n",
    "print(\"AHP Returned:\\n\", w_AHP)\n",
    "\n",
    "topsis.set_signals([MIN, MAX, MAX, MAX])\n",
    "topsis.decide()"
   ],
   "metadata": {
    "collapsed": false,
    "pycharm": {
     "name": "#%%\n"
    }
   }
  },
  {
   "cell_type": "code",
   "execution_count": 19,
   "outputs": [
    {
     "name": "stdout",
     "output_type": "stream",
     "text": [
      "WEIGHTS:\n",
      " [0.06564588752636326, 0.3781309475639537, 0.28738834501865135, 0.26883481989103164]\n"
     ]
    }
   ],
   "source": [
    "print(\"WEIGHTS:\\n\", topsis.weights)"
   ],
   "metadata": {
    "collapsed": false,
    "pycharm": {
     "name": "#%%\n"
    }
   }
  },
  {
   "cell_type": "code",
   "execution_count": 20,
   "outputs": [
    {
     "name": "stdout",
     "output_type": "stream",
     "text": [
      "NORMALIZED:\n",
      " +----+----------------+----------+-----------+----------+----------+\n",
      "|    | alternatives   |     COST |   STORAGE |   CAMERA |   DESIGN |\n",
      "|----+----------------+----------+-----------+----------+----------|\n",
      "|  0 | Mobile 1       | 0.442807 |  0.301511 | 0.428571 | 0.597614 |\n",
      "|  1 | Mobile 2       | 0.354246 |  0.301511 | 0.285714 | 0.358569 |\n",
      "|  2 | Mobile 3       | 0.531369 |  0.603023 | 0.571429 | 0.478091 |\n",
      "|  3 | Mobile 4       | 0.487088 |  0.603023 | 0.285714 | 0.478091 |\n",
      "|  4 | Mobile 5       | 0.398527 |  0.301511 | 0.571429 | 0.239046 |\n",
      "+----+----------------+----------+-----------+----------+----------+\n"
     ]
    }
   ],
   "source": [
    "print(\"NORMALIZED:\\n\", topsis.pretty_normalized())"
   ],
   "metadata": {
    "collapsed": false,
    "pycharm": {
     "name": "#%%\n"
    }
   }
  },
  {
   "cell_type": "code",
   "execution_count": 21,
   "outputs": [
    {
     "name": "stdout",
     "output_type": "stream",
     "text": [
      "WEIGHTED:\n",
      " +----+----------------+-----------+-----------+----------+-----------+\n",
      "|    | alternatives   |      COST |   STORAGE |   CAMERA |    DESIGN |\n",
      "|----+----------------+-----------+-----------+----------+-----------|\n",
      "|  0 | Mobile 1       | 0.0290685 |  0.114011 | 0.123166 | 0.16066   |\n",
      "|  1 | Mobile 2       | 0.0232548 |  0.114011 | 0.082111 | 0.0963957 |\n",
      "|  2 | Mobile 3       | 0.0348822 |  0.228022 | 0.164222 | 0.128528  |\n",
      "|  3 | Mobile 4       | 0.0319753 |  0.228022 | 0.082111 | 0.128528  |\n",
      "|  4 | Mobile 5       | 0.0261616 |  0.114011 | 0.164222 | 0.0642638 |\n",
      "+----+----------------+-----------+-----------+----------+-----------+\n"
     ]
    }
   ],
   "source": [
    "print(\"WEIGHTED:\\n\", topsis.pretty_weighted())"
   ],
   "metadata": {
    "collapsed": false,
    "pycharm": {
     "name": "#%%\n"
    }
   }
  },
  {
   "cell_type": "code",
   "execution_count": 22,
   "outputs": [
    {
     "name": "stdout",
     "output_type": "stream",
     "text": [
      "RANKING TOPSIS with Vector :\n",
      " +----+----------------+---------------------+--------+\n",
      "|    | alternatives   |   performance score |   rank |\n",
      "|----+----------------+---------------------+--------|\n",
      "|  0 | Mobile 1       |            0.463799 |      3 |\n",
      "|  1 | Mobile 2       |            0.181113 |      5 |\n",
      "|  2 | Mobile 3       |            0.818887 |      1 |\n",
      "|  3 | Mobile 4       |            0.596357 |      2 |\n",
      "|  4 | Mobile 5       |            0.356068 |      4 |\n",
      "+----+----------------+---------------------+--------+\n"
     ]
    }
   ],
   "source": [
    "print(\"RANKING TOPSIS with\", topsis.normalization_method , \":\\n\", topsis.pretty_decision())"
   ],
   "metadata": {
    "collapsed": false,
    "pycharm": {
     "name": "#%%\n"
    }
   }
  },
  {
   "cell_type": "code",
   "execution_count": 23,
   "outputs": [
    {
     "name": "stdout",
     "output_type": "stream",
     "text": [
      "RANKING TOPSIS with EnhancedAccuracy :\n",
      " +----+----------------+---------------------+--------+\n",
      "|    | alternatives   |   performance score |   rank |\n",
      "|----+----------------+---------------------+--------|\n",
      "|  0 | Mobile 1       |            0.481891 |      3 |\n",
      "|  1 | Mobile 2       |            0.19915  |      5 |\n",
      "|  2 | Mobile 3       |            0.80085  |      1 |\n",
      "|  3 | Mobile 4       |            0.546128 |      2 |\n",
      "|  4 | Mobile 5       |            0.405637 |      4 |\n",
      "+----+----------------+---------------------+--------+\n"
     ]
    }
   ],
   "source": [
    "topsis.decide(EnhancedAccuracy_)\n",
    "print(\"RANKING TOPSIS with\", topsis.normalization_method, \":\\n\", topsis.pretty_decision())"
   ],
   "metadata": {
    "collapsed": false,
    "pycharm": {
     "name": "#%%\n"
    }
   }
  }
 ],
 "metadata": {
  "kernelspec": {
   "display_name": "Python 3",
   "language": "python",
   "name": "python3"
  },
  "language_info": {
   "codemirror_mode": {
    "name": "ipython",
    "version": 2
   },
   "file_extension": ".py",
   "mimetype": "text/x-python",
   "name": "python",
   "nbconvert_exporter": "python",
   "pygments_lexer": "ipython2",
   "version": "2.7.6"
  }
 },
 "nbformat": 4,
 "nbformat_minor": 0
}