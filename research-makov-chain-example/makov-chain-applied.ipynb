{
 "cells": [
  {
   "cell_type": "markdown",
   "source": [
    "เราต้องสร้าง matrix ของ transition เพื่อบอกถึง prop ที่จะย้ายจาก state นึงไปอีก state นึง\n",
    " - เอากราฟมาสร้าง?\n",
    " - เอาข้อมูลดิบมาสร้าง?\n",
    "\n",
    "Initial State? เมื่อจับกับข้อมูลเรา คือ อัลไล? Weight? (Root Node)"
   ],
   "metadata": {
    "collapsed": false,
    "pycharm": {
     "name": "#%% md\n"
    }
   }
  },
  {
   "cell_type": "code",
   "execution_count": null,
   "outputs": [],
   "source": [],
   "metadata": {
    "collapsed": false,
    "pycharm": {
     "name": "#%%\n"
    }
   }
  }
 ],
 "metadata": {
  "kernelspec": {
   "display_name": "Python 3",
   "language": "python",
   "name": "python3"
  },
  "language_info": {
   "codemirror_mode": {
    "name": "ipython",
    "version": 2
   },
   "file_extension": ".py",
   "mimetype": "text/x-python",
   "name": "python",
   "nbconvert_exporter": "python",
   "pygments_lexer": "ipython2",
   "version": "2.7.6"
  }
 },
 "nbformat": 4,
 "nbformat_minor": 0
}