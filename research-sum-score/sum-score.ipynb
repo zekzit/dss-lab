{
 "cells": [
  {
   "cell_type": "code",
   "execution_count": 65,
   "outputs": [],
   "source": [
    "import itertools\n",
    "from tree_from_assoc_rules import list_all_factors\n",
    "from controller import generate_decision_tree\n",
    "from tabulate import tabulate"
   ],
   "metadata": {
    "collapsed": false,
    "pycharm": {
     "name": "#%%\n"
    }
   }
  },
  {
   "cell_type": "code",
   "execution_count": 66,
   "metadata": {
    "collapsed": true,
    "pycharm": {
     "name": "#%%\n"
    }
   },
   "outputs": [],
   "source": [
    "# Define all factors - Ref(3)\n",
    "all_factors = [\"stay\", \"length_of_stay\", \"country\", \"review_group\", \"room_type\"]\n",
    "\n",
    "# Read file of possible values\n",
    "possible_factor_values = list_all_factors()"
   ]
  },
  {
   "cell_type": "code",
   "execution_count": 67,
   "outputs": [],
   "source": [
    "# All possible permutations of all factors - Ref(4)\n",
    "all_factors_permutations = []\n",
    "for length in range(2, len(all_factors) + 1):\n",
    "    all_factors_permutations += list(itertools.permutations(all_factors, length))"
   ],
   "metadata": {
    "collapsed": false,
    "pycharm": {
     "name": "#%%\n"
    }
   }
  },
  {
   "cell_type": "code",
   "execution_count": 68,
   "outputs": [],
   "source": [
    "# Hardcoded some constants\n",
    "mcda_type = \"rating\"\n",
    "hotel_name = \"Amari Phuket\"\n",
    "rule_year = None\n",
    "rule_month = None"
   ],
   "metadata": {
    "collapsed": false,
    "pycharm": {
     "name": "#%%\n"
    }
   }
  },
  {
   "cell_type": "code",
   "execution_count": 83,
   "outputs": [],
   "source": [
    "def collect_paths(node, route_nodes=[]):\n",
    "    result = []\n",
    "    has_child = len(node.children) > 0\n",
    "    if has_child:\n",
    "        for child_node in node.children:\n",
    "            new_route_nodes = []\n",
    "            new_route_nodes += route_nodes\n",
    "            new_route_nodes.append(node)\n",
    "            result += collect_paths(child_node, route_nodes=new_route_nodes)\n",
    "    else:\n",
    "        new_route_nodes = []\n",
    "        new_route_nodes += route_nodes\n",
    "        new_route_nodes.append(node)\n",
    "        return [new_route_nodes]\n",
    "    return result\n",
    "\n",
    "# Generate decision tree for all permutations\n",
    "count = 0\n",
    "nodes = []\n",
    "result_score_table = [[\"Outcome\", \"Factor_1\", \"Factor_2\", \"Factor_3\", \"Factor_4\", \"Factor_5\", \"Score\"]]\n",
    "for idx, permutation in enumerate(all_factors_permutations):\n",
    "    # Calculate weights array\n",
    "    factors_length = len(permutation)\n",
    "    factor_weight = 1 / factors_length\n",
    "    weights = [factor_weight for x in range(factors_length)]\n",
    "\n",
    "    # Generate Decision Tree\n",
    "    # print(permutation)\n",
    "    root_node = generate_decision_tree(mcda_type, list(permutation), weights, hotel_name=hotel_name,\n",
    "                                       rule_year=rule_year, rule_month=rule_month)\n",
    "    nodes.append(root_node)\n",
    "\n",
    "    # Prototype: calculate score on each tree\n",
    "    # print(RenderTree(root_node, style=AsciiStyle()).by_attr())\n",
    "    paths = collect_paths(root_node)\n",
    "    for p_idx, path in enumerate(paths):\n",
    "        count += 1\n",
    "        result_name = list(map(lambda k : k.name, path[1:]))\n",
    "        weight_sum = sum(n.weight for n in path[1:])\n",
    "        score_sum = sum(n.score for n in path[1:]) if weight_sum == 1 else 0\n",
    "        result_row = [None] * 7\n",
    "        result_row[0] = count\n",
    "        result_row[1:5] = result_name + [None] * (5 - len(result_name))\n",
    "        result_row[6] = score_sum\n",
    "        result_score_table.append(result_row)"
   ],
   "metadata": {
    "collapsed": false,
    "pycharm": {
     "name": "#%%\n"
    }
   }
  },
  {
   "cell_type": "code",
   "execution_count": 84,
   "outputs": [
    {
     "name": "stdout",
     "output_type": "stream",
     "text": [
      "╒════╤══════════════╤════════════════════╤═══════════════════╤═════════════════════╤════════════════════════════════════════════════╤════════════╤═════════╕\n",
      "│    │ Outcome      │ Factor_1           │ Factor_2          │ Factor_3            │ Factor_4                                       │   Factor_5 │ Score   │\n",
      "╞════╪══════════════╪════════════════════╪═══════════════════╪═════════════════════╪════════════════════════════════════════════════╪════════════╪═════════╡\n",
      "│  1 │ stay:DEC-FEB │ length_of_stay:1-7 │ country:Singapore │ review_group:Family │ room_type:Deluxe Ocean View                    │   0.196639 │         │\n",
      "├────┼──────────────┼────────────────────┼───────────────────┼─────────────────────┼────────────────────────────────────────────────┼────────────┼─────────┤\n",
      "│  2 │ stay:DEC-FEB │ length_of_stay:1-7 │ country:Singapore │ review_group:Family │ room_type:Superior Double Room with Ocean View │   0.196639 │         │\n",
      "├────┼──────────────┼────────────────────┼───────────────────┼─────────────────────┼────────────────────────────────────────────────┼────────────┼─────────┤\n",
      "│  3 │ stay:DEC-FEB │ length_of_stay:1-7 │ country:Singapore │ review_group:Family │ room_type:Superior Ocean View                  │   0.196639 │         │\n",
      "├────┼──────────────┼────────────────────┼───────────────────┼─────────────────────┼────────────────────────────────────────────────┼────────────┼─────────┤\n",
      "│  4 │ stay:DEC-FEB │ length_of_stay:1-7 │ country:Australia │ review_group:Couple │ room_type:Deluxe Ocean View                    │   0.596639 │         │\n",
      "├────┼──────────────┼────────────────────┼───────────────────┼─────────────────────┼────────────────────────────────────────────────┼────────────┼─────────┤\n",
      "│  5 │ stay:DEC-FEB │ length_of_stay:1-7 │ country:India     │ review_group:Couple │ room_type:Deluxe Ocean View                    │   0.446639 │         │\n",
      "├────┼──────────────┼────────────────────┼───────────────────┼─────────────────────┼────────────────────────────────────────────────┼────────────┼─────────┤\n",
      "│  6 │ stay:JUN-AUG │ length_of_stay:1-7 │ country:Singapore │ review_group:Family │ room_type:Deluxe Ocean View                    │   0.301961 │         │\n",
      "├────┼──────────────┼────────────────────┼───────────────────┼─────────────────────┼────────────────────────────────────────────────┼────────────┼─────────┤\n",
      "│  7 │ stay:JUN-AUG │ length_of_stay:1-7 │ country:Singapore │ review_group:Family │ room_type:Superior Double Room with Ocean View │   0.301961 │         │\n",
      "├────┼──────────────┼────────────────────┼───────────────────┼─────────────────────┼────────────────────────────────────────────────┼────────────┼─────────┤\n",
      "│  8 │ stay:JUN-AUG │ length_of_stay:1-7 │ country:Singapore │ review_group:Family │ room_type:Superior Ocean View                  │   0.301961 │         │\n",
      "├────┼──────────────┼────────────────────┼───────────────────┼─────────────────────┼────────────────────────────────────────────────┼────────────┼─────────┤\n",
      "│  9 │ stay:JUN-AUG │ length_of_stay:1-7 │ country:Australia │ review_group:Couple │ room_type:Deluxe Ocean View                    │   0.101961 │         │\n",
      "├────┼──────────────┼────────────────────┼───────────────────┼─────────────────────┼────────────────────────────────────────────────┼────────────┼─────────┤\n",
      "│ 10 │ stay:JUN-AUG │ length_of_stay:1-7 │ country:India     │ review_group:Couple │ room_type:Deluxe Ocean View                    │   0.101961 │         │\n",
      "├────┼──────────────┼────────────────────┼───────────────────┼─────────────────────┼────────────────────────────────────────────────┼────────────┼─────────┤\n",
      "│ 11 │ stay:MAR-MAY │                    │                   │                     │                                                │   0        │         │\n",
      "├────┼──────────────┼────────────────────┼───────────────────┼─────────────────────┼────────────────────────────────────────────────┼────────────┼─────────┤\n",
      "│ 12 │ stay:SEP-NOV │                    │                   │                     │                                                │   0        │         │\n",
      "╘════╧══════════════╧════════════════════╧═══════════════════╧═════════════════════╧════════════════════════════════════════════════╧════════════╧═════════╛\n"
     ]
    }
   ],
   "source": [
    "import csv\n",
    "\n",
    "print(tabulate(result_score_table, headers='firstrow', tablefmt='fancy_grid'))\n",
    "with open(\"out.csv\", \"w\", newline=\"\") as f:\n",
    "    writer = csv.writer(f)\n",
    "    writer.writerows(result_score_table)"
   ],
   "metadata": {
    "collapsed": false,
    "pycharm": {
     "name": "#%%\n"
    }
   }
  }
 ],
 "metadata": {
  "kernelspec": {
   "display_name": "Python 3",
   "language": "python",
   "name": "python3"
  },
  "language_info": {
   "codemirror_mode": {
    "name": "ipython",
    "version": 2
   },
   "file_extension": ".py",
   "mimetype": "text/x-python",
   "name": "python",
   "nbconvert_exporter": "python",
   "pygments_lexer": "ipython2",
   "version": "2.7.6"
  }
 },
 "nbformat": 4,
 "nbformat_minor": 0
}