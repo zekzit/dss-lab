{
 "cells": [
  {
   "cell_type": "code",
   "execution_count": 6,
   "outputs": [],
   "source": [
    "import itertools\n",
    "from tree_from_assoc_rules import list_all_factors\n",
    "from controller import generate_decision_tree\n",
    "from tabulate import tabulate\n",
    "import datetime"
   ],
   "metadata": {
    "collapsed": false
   }
  },
  {
   "cell_type": "code",
   "execution_count": 7,
   "metadata": {
    "collapsed": true
   },
   "outputs": [],
   "source": [
    "# Define all factors - Ref(3)\n",
    "# all_factors = [\"stay\", \"length_of_stay\", \"country\", \"review_group\", \"room_type\"]\n",
    "all_factors = [\"stay\", \"length_of_stay\", \"review_group\"]\n",
    "\n",
    "# Read file of possible values\n",
    "possible_factor_values = list_all_factors()"
   ]
  },
  {
   "cell_type": "code",
   "execution_count": 8,
   "outputs": [
    {
     "name": "stdout",
     "output_type": "stream",
     "text": [
      "[('stay', 'length_of_stay', 'review_group')]\n"
     ]
    }
   ],
   "source": [
    "# All possible permutations of all factors - Ref(4)\n",
    "all_factors_combinations = []\n",
    "for length in range(3, 4): # เพื่อทดลอง เลยลดจำนวนลง ของเดิม = len(all_factors) + 1\n",
    "    all_factors_combinations += list(itertools.combinations(all_factors, length))\n",
    "\n",
    "print(all_factors_combinations)"
   ],
   "metadata": {
    "collapsed": false
   }
  },
  {
   "cell_type": "code",
   "execution_count": 9,
   "outputs": [],
   "source": [
    "# Hardcoded some constants\n",
    "mcda_type = \"rating\"\n",
    "hotel_name = \"Amari Phuket\"\n",
    "rule_year = None\n",
    "rule_month = None\n",
    "\n",
    "weights_experiment_1 = [1/3, 1/3, 1/3]\n",
    "weights_experiment_2 = [1/8, 3/8, 4/8]"
   ],
   "metadata": {
    "collapsed": false
   }
  },
  {
   "cell_type": "code",
   "execution_count": 10,
   "outputs": [
    {
     "name": "stdout",
     "output_type": "stream",
     "text": [
      "all cases = 1\n",
      "1: 0:00:05.856357 - ('stay', 'length_of_stay', 'review_group')\n"
     ]
    }
   ],
   "source": [
    "print(\"all cases = \" + str(len(all_factors_combinations)))\n",
    "def collect_paths(node, route_nodes=[]):\n",
    "    result = []\n",
    "    has_child = len(node.children) > 0\n",
    "    if has_child:\n",
    "        for child_node in node.children:\n",
    "            new_route_nodes = []\n",
    "            new_route_nodes += route_nodes\n",
    "            new_route_nodes.append(node)\n",
    "            result += collect_paths(child_node, route_nodes=new_route_nodes)\n",
    "    else:\n",
    "        new_route_nodes = []\n",
    "        new_route_nodes += route_nodes\n",
    "        new_route_nodes.append(node)\n",
    "        return [new_route_nodes]\n",
    "    return result\n",
    "\n",
    "# Generate decision tree for all permutations\n",
    "count = 0\n",
    "gen_count = 0\n",
    "nodes = []\n",
    "result_score_table = [[\"Outcome\", \"Factor_1\", \"Factor_2\", \"Factor_3\", \"Factor_4\", \"Factor_5\", \"Score\"]]\n",
    "for idx, permutation in enumerate(all_factors_combinations):\n",
    "    # Calculate weights array\n",
    "    factors_length = len(permutation)\n",
    "    factor_weight = 1 / factors_length\n",
    "    weights = weights_experiment_2\n",
    "\n",
    "    # Generate Decision Tree\n",
    "    # print(permutation)\n",
    "    gen_count += 1\n",
    "    a = datetime.datetime.now()\n",
    "    root_node = generate_decision_tree(mcda_type, list(permutation), weights, hotel_name=hotel_name,\n",
    "                                       rule_year=rule_year, rule_month=rule_month)\n",
    "    b = datetime.datetime.now()\n",
    "    c = b - a\n",
    "    print(str(gen_count) + \": \" + str(c) + \" - \" + str(permutation))\n",
    "    nodes.append(root_node)\n",
    "\n",
    "    # Prototype: calculate score on each tree\n",
    "    # print(RenderTree(root_node, style=AsciiStyle()).by_attr())\n",
    "    paths = collect_paths(root_node)\n",
    "    for p_idx, path in enumerate(paths):\n",
    "        count += 1\n",
    "        result_name = list(map(lambda k : k.name, path[1:]))\n",
    "        weight_sum = sum(n.weight for n in path[1:])\n",
    "        score_sum = sum(n.score for n in path[1:]) if weight_sum == 1 else 0\n",
    "        result_row = [None] * 7\n",
    "        result_row[0] = count\n",
    "        result_row[1:5] = result_name + [None] * (5 - len(result_name))\n",
    "        result_row[6] = score_sum\n",
    "        result_score_table.append(result_row)"
   ],
   "metadata": {
    "collapsed": false
   }
  },
  {
   "cell_type": "code",
   "execution_count": 11,
   "outputs": [],
   "source": [
    "import csv\n",
    "\n",
    "# print(tabulate(result_score_table, headers='firstrow', tablefmt='fancy_grid'))\n",
    "with open(\"experiment-2-neq.csv\", \"w\", newline=\"\") as f:\n",
    "    writer = csv.writer(f)\n",
    "    writer.writerows(result_score_table)"
   ],
   "metadata": {
    "collapsed": false
   }
  }
 ],
 "metadata": {
  "kernelspec": {
   "display_name": "Python 3",
   "language": "python",
   "name": "python3"
  },
  "language_info": {
   "codemirror_mode": {
    "name": "ipython",
    "version": 2
   },
   "file_extension": ".py",
   "mimetype": "text/x-python",
   "name": "python",
   "nbconvert_exporter": "python",
   "pygments_lexer": "ipython2",
   "version": "2.7.6"
  }
 },
 "nbformat": 4,
 "nbformat_minor": 0
}
