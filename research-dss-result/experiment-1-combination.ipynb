{
 "cells": [
  {
   "cell_type": "code",
   "execution_count": 2,
   "outputs": [],
   "source": [
    "import itertools\n",
    "from tree_from_assoc_rules import list_all_factors\n",
    "from controller import generate_decision_tree\n",
    "from tabulate import tabulate\n",
    "import datetime"
   ],
   "metadata": {
    "collapsed": false,
    "pycharm": {
     "name": "#%%\n"
    }
   }
  },
  {
   "cell_type": "code",
   "execution_count": 3,
   "metadata": {
    "collapsed": true,
    "pycharm": {
     "name": "#%%\n"
    }
   },
   "outputs": [],
   "source": [
    "# Define all factors - Ref(3)\n",
    "all_factors = [\"stay\", \"length_of_stay\", \"country\", \"review_group\", \"room_type\"]\n",
    "\n",
    "# Read file of possible values\n",
    "possible_factor_values = list_all_factors()"
   ]
  },
  {
   "cell_type": "code",
   "execution_count": 4,
   "outputs": [
    {
     "name": "stdout",
     "output_type": "stream",
     "text": [
      "[('stay', 'length_of_stay'), ('stay', 'country'), ('stay', 'review_group'), ('stay', 'room_type'), ('length_of_stay', 'country'), ('length_of_stay', 'review_group'), ('length_of_stay', 'room_type'), ('country', 'review_group'), ('country', 'room_type'), ('review_group', 'room_type'), ('stay', 'length_of_stay', 'country'), ('stay', 'length_of_stay', 'review_group'), ('stay', 'length_of_stay', 'room_type'), ('stay', 'country', 'review_group'), ('stay', 'country', 'room_type'), ('stay', 'review_group', 'room_type'), ('length_of_stay', 'country', 'review_group'), ('length_of_stay', 'country', 'room_type'), ('length_of_stay', 'review_group', 'room_type'), ('country', 'review_group', 'room_type'), ('stay', 'length_of_stay', 'country', 'review_group'), ('stay', 'length_of_stay', 'country', 'room_type'), ('stay', 'length_of_stay', 'review_group', 'room_type'), ('stay', 'country', 'review_group', 'room_type'), ('length_of_stay', 'country', 'review_group', 'room_type'), ('stay', 'length_of_stay', 'country', 'review_group', 'room_type')]\n"
     ]
    }
   ],
   "source": [
    "# All possible permutations of all factors - Ref(4)\n",
    "all_factors_combinations = []\n",
    "for length in range(2, len(all_factors) + 1):\n",
    "    all_factors_combinations += list(itertools.combinations(all_factors, length))\n",
    "\n",
    "print(all_factors_combinations)"
   ],
   "metadata": {
    "collapsed": false,
    "pycharm": {
     "name": "#%%\n"
    }
   }
  },
  {
   "cell_type": "code",
   "execution_count": 5,
   "outputs": [],
   "source": [
    "# Hardcoded some constants\n",
    "mcda_type = \"rating\"\n",
    "hotel_name = \"Amari Phuket\"\n",
    "rule_year = None\n",
    "rule_month = None"
   ],
   "metadata": {
    "collapsed": false,
    "pycharm": {
     "name": "#%%\n"
    }
   }
  },
  {
   "cell_type": "code",
   "execution_count": 6,
   "outputs": [
    {
     "name": "stdout",
     "output_type": "stream",
     "text": [
      "all cases = 26\n",
      "1: 0:00:02.882222 - ('stay', 'length_of_stay')\n",
      "2: 0:00:03.329063 - ('stay', 'country')\n",
      "3: 0:00:03.231137 - ('stay', 'review_group')\n",
      "4: 0:00:05.445144 - ('stay', 'room_type')\n",
      "5: 0:00:04.092102 - ('length_of_stay', 'country')\n",
      "6: 0:00:03.328740 - ('length_of_stay', 'review_group')\n",
      "7: 0:00:04.183983 - ('length_of_stay', 'room_type')\n",
      "8: 0:00:41.465972 - ('country', 'review_group')\n",
      "9: 0:00:39.540923 - ('country', 'room_type')\n",
      "10: 0:00:04.653281 - ('review_group', 'room_type')\n",
      "11: 0:00:05.997696 - ('stay', 'length_of_stay', 'country')\n",
      "12: 0:00:05.840369 - ('stay', 'length_of_stay', 'review_group')\n",
      "13: 0:00:07.023380 - ('stay', 'length_of_stay', 'room_type')\n",
      "14: 0:00:16.041365 - ('stay', 'country', 'review_group')\n",
      "15: 0:00:14.267378 - ('stay', 'country', 'room_type')\n",
      "16: 0:00:16.711335 - ('stay', 'review_group', 'room_type')\n",
      "17: 0:00:07.624089 - ('length_of_stay', 'country', 'review_group')\n",
      "18: 0:00:06.890000 - ('length_of_stay', 'country', 'room_type')\n",
      "19: 0:00:09.433867 - ('length_of_stay', 'review_group', 'room_type')\n",
      "20: 0:02:21.840388 - ('country', 'review_group', 'room_type')\n",
      "21: 0:00:18.793851 - ('stay', 'length_of_stay', 'country', 'review_group')\n",
      "22: 0:00:16.898684 - ('stay', 'length_of_stay', 'country', 'room_type')\n",
      "23: 0:00:28.491041 - ('stay', 'length_of_stay', 'review_group', 'room_type')\n",
      "24: 0:01:15.161411 - ('stay', 'country', 'review_group', 'room_type')\n",
      "25: 0:00:32.475982 - ('length_of_stay', 'country', 'review_group', 'room_type')\n",
      "26: 0:01:25.010526 - ('stay', 'length_of_stay', 'country', 'review_group', 'room_type')\n"
     ]
    }
   ],
   "source": [
    "print(\"all cases = \" + str(len(all_factors_combinations)))\n",
    "def collect_paths(node, route_nodes=[]):\n",
    "    result = []\n",
    "    has_child = len(node.children) > 0\n",
    "    if has_child:\n",
    "        for child_node in node.children:\n",
    "            new_route_nodes = []\n",
    "            new_route_nodes += route_nodes\n",
    "            new_route_nodes.append(node)\n",
    "            result += collect_paths(child_node, route_nodes=new_route_nodes)\n",
    "    else:\n",
    "        new_route_nodes = []\n",
    "        new_route_nodes += route_nodes\n",
    "        new_route_nodes.append(node)\n",
    "        return [new_route_nodes]\n",
    "    return result\n",
    "\n",
    "# Generate decision tree for all permutations\n",
    "count = 0\n",
    "gen_count = 0\n",
    "nodes = []\n",
    "result_score_table = [[\"Outcome\", \"Factor_1\", \"Factor_2\", \"Factor_3\", \"Factor_4\", \"Factor_5\", \"Score\"]]\n",
    "for idx, permutation in enumerate(all_factors_combinations):\n",
    "    # Calculate weights array\n",
    "    factors_length = len(permutation)\n",
    "    factor_weight = 1 / factors_length\n",
    "    weights = [factor_weight for x in range(factors_length)]\n",
    "\n",
    "    # Generate Decision Tree\n",
    "    # print(permutation)\n",
    "    gen_count += 1\n",
    "    a = datetime.datetime.now()\n",
    "    root_node = generate_decision_tree(mcda_type, list(permutation), weights, hotel_name=hotel_name,\n",
    "                                       rule_year=rule_year, rule_month=rule_month)\n",
    "    b = datetime.datetime.now()\n",
    "    c = b - a\n",
    "    print(str(gen_count) + \": \" + str(c) + \" - \" + str(permutation))\n",
    "    nodes.append(root_node)\n",
    "\n",
    "    # Prototype: calculate score on each tree\n",
    "    # print(RenderTree(root_node, style=AsciiStyle()).by_attr())\n",
    "    paths = collect_paths(root_node)\n",
    "    for p_idx, path in enumerate(paths):\n",
    "        count += 1\n",
    "        result_name = list(map(lambda k : k.name, path[1:]))\n",
    "        weight_sum = sum(n.weight for n in path[1:])\n",
    "        score_sum = sum(n.score for n in path[1:]) if weight_sum == 1 else 0\n",
    "        result_row = [None] * 7\n",
    "        result_row[0] = count\n",
    "        result_row[1:5] = result_name + [None] * (5 - len(result_name))\n",
    "        result_row[6] = score_sum\n",
    "        result_score_table.append(result_row)"
   ],
   "metadata": {
    "collapsed": false,
    "pycharm": {
     "name": "#%%\n"
    }
   }
  },
  {
   "cell_type": "code",
   "execution_count": 9,
   "outputs": [],
   "source": [
    "import csv\n",
    "\n",
    "# print(tabulate(result_score_table, headers='firstrow', tablefmt='fancy_grid'))\n",
    "with open(\"experiment-1-combination.csv\", \"w\", newline=\"\") as f:\n",
    "    writer = csv.writer(f)\n",
    "    writer.writerows(result_score_table)"
   ],
   "metadata": {
    "collapsed": false,
    "pycharm": {
     "name": "#%%\n"
    }
   }
  }
 ],
 "metadata": {
  "kernelspec": {
   "display_name": "Python 3",
   "language": "python",
   "name": "python3"
  },
  "language_info": {
   "codemirror_mode": {
    "name": "ipython",
    "version": 2
   },
   "file_extension": ".py",
   "mimetype": "text/x-python",
   "name": "python",
   "nbconvert_exporter": "python",
   "pygments_lexer": "ipython2",
   "version": "2.7.6"
  }
 },
 "nbformat": 4,
 "nbformat_minor": 0
}