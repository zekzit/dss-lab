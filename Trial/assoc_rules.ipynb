{
 "cells": [
  {
   "cell_type": "code",
   "execution_count": 7,
   "metadata": {
    "collapsed": true,
    "pycharm": {
     "name": "#%%\n"
    }
   },
   "outputs": [],
   "source": [
    "import pandas as pd"
   ]
  },
  {
   "cell_type": "code",
   "execution_count": 8,
   "outputs": [],
   "source": [
    "df = pd.read_csv(\"possible_values.csv\", names=[\"Possibilities\"])"
   ],
   "metadata": {
    "collapsed": false,
    "pycharm": {
     "name": "#%%\n"
    }
   }
  },
  {
   "cell_type": "code",
   "execution_count": 9,
   "outputs": [
    {
     "data": {
      "text/plain": "             Factor                     Entity\n0              stay                    DEC-FEB\n1              stay                    JUN-AUG\n2              stay                    MAR-MAY\n3              stay                    SEP-NOV\n4    length_of_stay                        1-7\n..              ...                        ...\n388       room_type                cheap beach\n389       room_type                   standard\n390       room_type              standard room\n391       room_type                     studio\n392       room_type  vintage, partial sea view\n\n[393 rows x 2 columns]",
      "text/html": "<div>\n<style scoped>\n    .dataframe tbody tr th:only-of-type {\n        vertical-align: middle;\n    }\n\n    .dataframe tbody tr th {\n        vertical-align: top;\n    }\n\n    .dataframe thead th {\n        text-align: right;\n    }\n</style>\n<table border=\"1\" class=\"dataframe\">\n  <thead>\n    <tr style=\"text-align: right;\">\n      <th></th>\n      <th>Factor</th>\n      <th>Entity</th>\n    </tr>\n  </thead>\n  <tbody>\n    <tr>\n      <th>0</th>\n      <td>stay</td>\n      <td>DEC-FEB</td>\n    </tr>\n    <tr>\n      <th>1</th>\n      <td>stay</td>\n      <td>JUN-AUG</td>\n    </tr>\n    <tr>\n      <th>2</th>\n      <td>stay</td>\n      <td>MAR-MAY</td>\n    </tr>\n    <tr>\n      <th>3</th>\n      <td>stay</td>\n      <td>SEP-NOV</td>\n    </tr>\n    <tr>\n      <th>4</th>\n      <td>length_of_stay</td>\n      <td>1-7</td>\n    </tr>\n    <tr>\n      <th>...</th>\n      <td>...</td>\n      <td>...</td>\n    </tr>\n    <tr>\n      <th>388</th>\n      <td>room_type</td>\n      <td>cheap beach</td>\n    </tr>\n    <tr>\n      <th>389</th>\n      <td>room_type</td>\n      <td>standard</td>\n    </tr>\n    <tr>\n      <th>390</th>\n      <td>room_type</td>\n      <td>standard room</td>\n    </tr>\n    <tr>\n      <th>391</th>\n      <td>room_type</td>\n      <td>studio</td>\n    </tr>\n    <tr>\n      <th>392</th>\n      <td>room_type</td>\n      <td>vintage, partial sea view</td>\n    </tr>\n  </tbody>\n</table>\n<p>393 rows × 2 columns</p>\n</div>"
     },
     "execution_count": 9,
     "metadata": {},
     "output_type": "execute_result"
    }
   ],
   "source": [
    "df[[\"Factor\", \"Entity\"]] = df[\"Possibilities\"].str.split(\":\", 1, expand=True)\n",
    "del df[\"Possibilities\"]\n",
    "df"
   ],
   "metadata": {
    "collapsed": false,
    "pycharm": {
     "name": "#%%\n"
    }
   }
  },
  {
   "cell_type": "code",
   "execution_count": 10,
   "outputs": [
    {
     "data": {
      "text/plain": "['stay', 'length_of_stay', 'review_group', 'country', 'room_type']"
     },
     "execution_count": 10,
     "metadata": {},
     "output_type": "execute_result"
    }
   ],
   "source": [
    "names = df.drop_duplicates(\"Factor\")[\"Factor\"].values.tolist()\n",
    "names"
   ],
   "metadata": {
    "collapsed": false,
    "pycharm": {
     "name": "#%%\n"
    }
   }
  },
  {
   "cell_type": "code",
   "execution_count": 11,
   "outputs": [
    {
     "data": {
      "text/plain": "{'country': ['Antarctica',\n  'Argentina',\n  'Australia',\n  'Austria',\n  'Bahrain',\n  'Bangladesh',\n  'Belarus',\n  'Belgium',\n  'Brazil',\n  'Bulgaria',\n  'Cambodia',\n  'Canada',\n  'China',\n  'Colombia',\n  'Croatia',\n  'Cyprus',\n  'Czech Republic',\n  'Denmark',\n  'Egypt',\n  'Estonia',\n  'Finland',\n  'France',\n  'Georgia',\n  'Germany',\n  'Greece',\n  'Hong Kong',\n  'Hungary',\n  'India',\n  'Indonesia',\n  'Iran (Islamic Republic of)',\n  'Ireland',\n  'Israel',\n  'Italy',\n  'Japan',\n  'Jordan',\n  'Kazakhstan',\n  'Kenya',\n  'Korea (Republic of)',\n  'Kuwait',\n  \"Lao People's Democratic Republic\",\n  'Latvia',\n  'Lebanon',\n  'Luxembourg',\n  'Macao',\n  'Malaysia',\n  'Malta',\n  'Mexico',\n  'Morocco',\n  'Myanmar',\n  'Nepal',\n  'Netherlands',\n  'New Zealand',\n  'Norway',\n  'Oman',\n  'Pakistan',\n  'Peru',\n  'Philippines',\n  'Poland',\n  'Portugal',\n  'Qatar',\n  'Romania',\n  'Russian Federation',\n  'Saudi Arabia',\n  'Senegal',\n  'Serbia',\n  'Singapore',\n  'Slovakia',\n  'South Africa',\n  'Spain',\n  'Sri Lanka',\n  'Sweden',\n  'Switzerland',\n  'Syrian Arab Republic',\n  'Taiwan, Province of China',\n  'Thailand',\n  'Turkey',\n  'Ukraine',\n  'United Arab Emirates',\n  'United Kingdom of Great Britain and Northern Ireland',\n  'United States of America',\n  'Venezuela (Bolivarian Republic of)',\n  'Viet Nam'],\n 'length_of_stay': ['1-7', '8-15', '>15'],\n 'review_group': ['Business', 'Couple', 'Family', 'Group', 'Solo'],\n 'room_type': ['1 Bedroom Apartment with Sea View',\n  '1 Bedroom Suite Water View',\n  '1 bedroom studio',\n  '1 bedroom suite',\n  '2 Bedroom Pool Suite',\n  '2 Single Beds Non-Smoking',\n  '2 bedroom apartment with balcony',\n  '2 bedroom family suite',\n  '2 bedroom villa near the pool',\n  '2 bedroom, poolside',\n  '2-Bedroom Sea View Villa with Pool',\n  '3 bedroom villa with swimming pool',\n  '4 bedroom villa with pool',\n  'Angsana Pool Residence 3 Bedroom Pool Villa',\n  'Bamboo Pool Villa',\n  'Bay Room King',\n  'Bay Room Twin',\n  'Bay View Villa with Private Pool',\n  'Beach Front Suite',\n  'Beach Suite',\n  'Beachfront Pool Villa',\n  'Bed in 10-Bed Mixed Dormitory Room',\n  'Beyond Deluxe Double or Twin Room with Sea View',\n  'Cape Superior',\n  'Club Ocean View 1 King Bed',\n  'Contemporary Thai Grand Deluxe',\n  'Deluxe',\n  'Deluxe 1 Bedroom Apartment',\n  'Deluxe Apartment',\n  'Deluxe Balcony',\n  'Deluxe Double',\n  'Deluxe Double Bed with Bathtub',\n  'Deluxe Double Bedroom',\n  'Deluxe Double Pool View',\n  'Deluxe Double Room',\n  'Deluxe Double Room (Free Round Trip Airport Transfer)',\n  'Deluxe Double Room with Balcony',\n  'Deluxe Double Room with Partial Sea View',\n  'Deluxe Double Room with Pool Access',\n  'Deluxe Double Room with Sea View',\n  'Deluxe Double Room with Spa Bath',\n  'Deluxe Double Sea View',\n  'Deluxe Double or Twin',\n  'Deluxe Double or Twin - Paradise Wing',\n  'Deluxe Double or Twin Room',\n  'Deluxe Double or Twin Room - Transfer from Hotel to Airport',\n  'Deluxe Double or Twin Room with Balcony',\n  'Deluxe Double or Twin Room with Pool',\n  'Deluxe Double or Twin Room with Pool Access',\n  'Deluxe Double or Twin Room with Pool Access and Free WiFi',\n  'Deluxe Double or Twin Room with Pool View',\n  'Deluxe Double or Twin Room with Sea View',\n  'Deluxe Family',\n  'Deluxe Family 3 People',\n  'Deluxe Family Pool view',\n  'Deluxe Family Room',\n  'Deluxe Garden King, Guest room, 1 King, Garden view, Balcony',\n  'Deluxe Garden View',\n  'Deluxe Garden View Wing',\n  'Deluxe Ground Terrace',\n  'Deluxe King',\n  'Deluxe King Bed',\n  'Deluxe King Bed Balcony',\n  'Deluxe King Lagoon View',\n  'Deluxe King Pool View',\n  'Deluxe King Room',\n  'Deluxe King Room with Sea View',\n  'Deluxe King with Pool Access',\n  'Deluxe Lagoon View King',\n  'Deluxe Lagoon View Twin',\n  'Deluxe Large Double',\n  'Deluxe Ocean View',\n  'Deluxe Ocean View, Guest room, 1 King, Balcony',\n  'Deluxe One Bedroom Suite with Whirlpool Bath',\n  'Deluxe Palm Double Room',\n  'Deluxe Paradise Wing Original',\n  'Deluxe Partial Sea View',\n  'Deluxe Pavilion',\n  'Deluxe Pool Access',\n  'Deluxe Pool Access Room',\n  'Deluxe Pool Access with View',\n  'Deluxe Pool Access, 1 Bedroom Suite, 1 King, Sea view',\n  'Deluxe Pool View',\n  'Deluxe Pool View, Guest room, 1 King, Balcony',\n  'Deluxe Queen Room',\n  'Deluxe Room',\n  'Deluxe Room - 1 King Bed',\n  'Deluxe Room, 1 King, Pool View, Balcony',\n  'Deluxe Room, 2 Double Beds, Garden View, Balcony',\n  'Deluxe Sea View',\n  'Deluxe Sea View Pool Access',\n  'Deluxe Sea View Room',\n  'Deluxe Sea View with Balcony',\n  'Deluxe Suite',\n  'Deluxe Suite with Sea View',\n  'Deluxe Twin',\n  'Deluxe Twin Room',\n  'Deluxe Twin Room with Balcony',\n  'Deluxe Twin Room with Sea View',\n  'Deluxe Villa',\n  'Deluxe Villa Pool Access',\n  'Deluxe Villa Twin bed',\n  'Deluxe for 3 people',\n  'Deluxe for at least 15 years old',\n  'Deluxe in hotel',\n  'Deluxe room with pool access',\n  'Deluxe with Balcony',\n  'Deluxe with Pool Access and Sea View',\n  'Deluxe, Guest room, 2 Double, Sea view, Pool access',\n  'Dibuk Family Suite',\n  'Double Room',\n  'Double Room with Balcony',\n  'Double Room with Garden View',\n  'Double Room with Mountain View',\n  'Double Room with Pool View',\n  'Double Room with Private Bathroom',\n  'Duplex Pool Suite',\n  'Economy',\n  'Economy Double Room',\n  'Economy room with bunk beds',\n  'Elite',\n  'Executive Suite',\n  'Family Premier Room, 1 King and 2 Double, Pool view, Balcony',\n  'Family Room with Balcony for 4 People (Free Round Trip Airport Transfer)',\n  'Family Suite',\n  'Family Suite with Adult bunk bed',\n  'Family Suite with Two Bedroom',\n  'Garden Cabana Pool Access, Guest room, 1 King, Garden view',\n  'Garden Villa with Private Pool',\n  'Grand Classic Room',\n  'Grand Deluxe',\n  'Grand Deluxe Pool View',\n  'Grand Deluxe Pool View Room',\n  'Grand Deluxe Pool Villa',\n  'Grand Deluxe Sea View with Breakfast',\n  'Grand Deluxe Suite',\n  'Grand Jacuzzi Deluxe',\n  'Grand Ocean View',\n  'Grand Pool Access',\n  'Grand Sea View',\n  'Grand Suite Thani Wing',\n  'Grand Villa, 3 Bedrooms, Sea View with Private Pool',\n  'Grand deluxe room including breakfast',\n  'Guest room, king bed, view',\n  'Honeymoon Pool Villa',\n  'Junior Suite',\n  'Junior Suite Double or Twin with Ocean View',\n  'Junior Suite, Thanee Wing',\n  'King Deluxe Sea View',\n  'King Room',\n  'King Room Lagoon View',\n  'King Room with Pool View',\n  'Lagoon View 1 King Bed',\n  'Laguna',\n  'Leisure King Bed Non-Smoking',\n  'Leisure King Bed Smoking',\n  'Luxury Beachfront Suite',\n  'Ma Relax Double or Twin Room',\n  'Ocean Front King Bed',\n  'Ocean Pavilion',\n  'Ocean View Suite',\n  'One Bedroom Pool Villa',\n  'One Bedroom Suite',\n  'One Bedroom Villa with Private Pool',\n  'One bedroom suite',\n  'One-Bedroom Suite',\n  'One-Bedroom Suite with Spa Bath',\n  'Outdoor Jacuzzi Suite',\n  'Pearl Bed Suite',\n  'Pearl Deluxe',\n  'Pearl Shell Suites',\n  'Penthouse',\n  'Penthouse (3 adults)',\n  'Plunge Pool Villa',\n  'Pool Pavilion',\n  'Pool Villa',\n  'Pool Villa 1 Bedroom',\n  'Pool Villa 3 Bedroom Lagoon View',\n  'Pool Villa Sea View',\n  'Pool Villa with Loft',\n  'Pool, garden',\n  'Poolview Busakorn Studio King',\n  'Premier',\n  'Premier Deluxe',\n  'Premier Deluxe Double or Twin Room with Sea View',\n  'Premier Pool Access',\n  'Premier Suite with Hot Tub',\n  'Premier Twin',\n  'Premium Deluxe',\n  'Private Double Room',\n  'Private Pool Suite',\n  'Private Pool Suite with Sea View',\n  'Private Pool Villa with Sea View',\n  'Quadruple Room',\n  'Queen Room with Balcony (No Window)',\n  'Queen Room with Pool View',\n  'Royal Ocean View Suite',\n  'SALA Villa with Private Pool',\n  'SPA Deluxe',\n  'Safari Deluxe',\n  'Safari Deluxe Double or Twin Room',\n  'Sala Villa with Private Pool',\n  'Sea View Suite',\n  'Signature Pool Villa',\n  'Signature Two-Bedroom Pool Villa',\n  'Single Bed in 8-Bed Dormitory Room',\n  'Single Room',\n  'Sky Suite with Plunge Pool',\n  'Small Double Room (Free Round Trip Airport Transfer)',\n  'Standard Deluxe No Window',\n  'Standard Deluxe double room without Window',\n  'Standard Double Room',\n  'Standard Double Room (Free Round Trip Airport Transfer)',\n  'Standard Double or Twin Room',\n  'Standard Double or Twin Room with Balcony',\n  'Standard Queen Room',\n  'Standard Room',\n  'Standard Twin Room',\n  'Standard Twin Room with Balcony',\n  'Standard room with 3 beds',\n  'Standard room with Jacuzzi',\n  'Standard room with air conditioning',\n  'Standard room with city view',\n  'Standard room without window',\n  'Studio Apartment',\n  'Studio Double',\n  'Studio Suite',\n  'Studio with Terrace',\n  'Suite Mountain View',\n  'Suite with Fan',\n  'Suite with Pool View',\n  'Suite with Sea View',\n  'Sunset Ocean Suite',\n  'Super Deluxe',\n  'Super Deluxe Room with Sea View',\n  'Super Deluxe Sea View',\n  'Super Deluxe with Pool Access Balcony',\n  'Superior',\n  'Superior Deluxe Double Room',\n  'Superior Double',\n  'Superior Double Room',\n  'Superior Double Room with Ocean View',\n  'Superior Double Room with Partial Ocean Facing View',\n  'Superior Double Room with Sea View',\n  'Superior Double or Twin Room',\n  'Superior Double or Twin Room with Balcony',\n  'Superior Double or Twin Room with Pool View',\n  'Superior Garden View',\n  'Superior Jacuzzi Suite',\n  'Superior King',\n  'Superior King Bed',\n  'Superior King Room',\n  'Superior King Room - Non-Smoking',\n  'Superior Ocean Side',\n  'Superior Ocean View',\n  'Superior Pool View',\n  'Superior Pool Wing',\n  'Superior Room',\n  'Superior Room with Balcony',\n  'Superior Room with Jacuzzi',\n  'Superior Room with Two Queen Beds',\n  'Superior Room, 1 King, Pool View, Balcony',\n  'Superior Single Room',\n  'Superior Suite',\n  'Superior Suite with Sea View',\n  'Superior Twin',\n  'Superior Twin Pool View',\n  'Superior Twin Room',\n  'Superior Villa with Garden View',\n  'Superior for 3 people',\n  'Superior no view',\n  'Superior room',\n  'Superior room with pool view',\n  'Superior with balcony',\n  'Superior with window',\n  'Superior, Guest room, 1 King',\n  'The Memory Superior',\n  'The Mood Suite',\n  'The rooms have access to the swimming pool.',\n  'Three Bedroom Signature Pool Villa',\n  'Tint Standard King Bed',\n  'Twin Room with Shared Bathroom',\n  'Two Bedroom Pool Villa',\n  'Two Bedroom Suite',\n  'Two Bedroom Suite Sea View',\n  'Two Bedroom Villa',\n  'Two-Bedroom Family Suite',\n  'Two-Bedroom House',\n  'Two-Bedroom Pool Villa with Garden View',\n  'Two-Bedroom Pool Villa with Sea View',\n  'Two-Bedroom Residence',\n  'Villa',\n  'apartment',\n  'beach front room',\n  'cheap beach',\n  'standard',\n  'standard room',\n  'studio',\n  'vintage, partial sea view'],\n 'stay': ['DEC-FEB', 'JUN-AUG', 'MAR-MAY', 'SEP-NOV']}"
     },
     "execution_count": 11,
     "metadata": {},
     "output_type": "execute_result"
    }
   ],
   "source": [
    "factor_entities = df.groupby('Factor')[\"Entity\"].apply(list).to_dict()\n",
    "factor_entities"
   ],
   "metadata": {
    "collapsed": false,
    "pycharm": {
     "name": "#%%\n"
    }
   }
  },
  {
   "cell_type": "code",
   "execution_count": 12,
   "outputs": [
    {
     "data": {
      "text/plain": "['Business', 'Couple', 'Family', 'Group', 'Solo']"
     },
     "execution_count": 12,
     "metadata": {},
     "output_type": "execute_result"
    }
   ],
   "source": [
    "factor_entities[\"review_group\"]"
   ],
   "metadata": {
    "collapsed": false,
    "pycharm": {
     "name": "#%%\n"
    }
   }
  },
  {
   "cell_type": "code",
   "execution_count": 2,
   "outputs": [],
   "source": [
    "import graphviz\n",
    "import pathlib\n",
    "from anytree import AnyNode, RenderTree\n",
    "from anytree.exporter import JsonExporter, UniqueDotExporter"
   ],
   "metadata": {
    "collapsed": false,
    "pycharm": {
     "name": "#%%\n"
    }
   }
  },
  {
   "cell_type": "code",
   "execution_count": 13,
   "outputs": [
    {
     "name": "stdout",
     "output_type": "stream",
     "text": [
      "Root\n",
      "├── Business\n",
      "│   ├── DEC-FEB\n",
      "│   ├── JUN-AUG\n",
      "│   ├── MAR-MAY\n",
      "│   └── SEP-NOV\n",
      "├── Couple\n",
      "│   ├── DEC-FEB\n",
      "│   ├── JUN-AUG\n",
      "│   ├── MAR-MAY\n",
      "│   └── SEP-NOV\n",
      "├── Family\n",
      "│   ├── DEC-FEB\n",
      "│   ├── JUN-AUG\n",
      "│   ├── MAR-MAY\n",
      "│   └── SEP-NOV\n",
      "├── Group\n",
      "│   ├── DEC-FEB\n",
      "│   ├── JUN-AUG\n",
      "│   ├── MAR-MAY\n",
      "│   └── SEP-NOV\n",
      "└── Solo\n",
      "    ├── DEC-FEB\n",
      "    ├── JUN-AUG\n",
      "    ├── MAR-MAY\n",
      "    └── SEP-NOV\n"
     ]
    }
   ],
   "source": [
    "root = AnyNode(id=\"root\", name=\"Root\")\n",
    "factor_lv1 = list(map(lambda x: AnyNode(id=\"x\" + str(x), name=x, parent=root), factor_entities[\"review_group\"]))\n",
    "for factor in factor_lv1:\n",
    "    list(map(lambda x: AnyNode(id=\"x\" + factor.name, name=x, parent=factor), factor_entities[\"stay\"]))\n",
    "\n",
    "for pre, fill, node in RenderTree(root):\n",
    "    print(\"%s%s\" % (pre, node.name))"
   ],
   "metadata": {
    "collapsed": false,
    "pycharm": {
     "name": "#%%\n"
    }
   }
  },
  {
   "cell_type": "code",
   "execution_count": 14,
   "outputs": [
    {
     "data": {
      "text/plain": "True"
     },
     "execution_count": 14,
     "metadata": {},
     "output_type": "execute_result"
    }
   ],
   "source": [
    "root.is_root"
   ],
   "metadata": {
    "collapsed": false,
    "pycharm": {
     "name": "#%%\n"
    }
   }
  },
  {
   "cell_type": "code",
   "execution_count": 4,
   "outputs": [
    {
     "data": {
      "image/svg+xml": "<?xml version=\"1.0\" encoding=\"UTF-8\" standalone=\"no\"?>\n<!DOCTYPE svg PUBLIC \"-//W3C//DTD SVG 1.1//EN\"\n \"http://www.w3.org/Graphics/SVG/1.1/DTD/svg11.dtd\">\n<!-- Generated by graphviz version 2.50.0 (20211204.2007)\n -->\n<!-- Title: tree Pages: 1 -->\n<svg width=\"66pt\" height=\"44pt\"\n viewBox=\"0.00 0.00 66.49 44.00\" xmlns=\"http://www.w3.org/2000/svg\" xmlns:xlink=\"http://www.w3.org/1999/xlink\">\n<g id=\"graph0\" class=\"graph\" transform=\"scale(1 1) rotate(0) translate(4 40)\">\n<title>tree</title>\n<polygon fill=\"white\" stroke=\"transparent\" points=\"-4,4 -4,-40 62.49,-40 62.49,4 -4,4\"/>\n<!-- 0x2866afcaa60 -->\n<g id=\"node1\" class=\"node\">\n<title>0x2866afcaa60</title>\n<ellipse fill=\"none\" stroke=\"black\" cx=\"29.25\" cy=\"-18\" rx=\"29.5\" ry=\"18\"/>\n<text text-anchor=\"middle\" x=\"29.25\" y=\"-14.3\" font-family=\"Times New Roman,serif\" font-size=\"14.00\">Root</text>\n</g>\n</g>\n</svg>\n",
      "text/plain": "<graphviz.sources.Source at 0x2866afcafd0>"
     },
     "execution_count": 4,
     "metadata": {},
     "output_type": "execute_result"
    }
   ],
   "source": [
    "UniqueDotExporter(root, options=[\"rankdir=LR;\"]).to_dotfile(\"d-tree.dot\")\n",
    "filepath = pathlib.Path('d-tree.dot')\n",
    "graphviz.Source.from_file('d-tree.dot')"
   ],
   "metadata": {
    "collapsed": false,
    "pycharm": {
     "name": "#%%\n"
    }
   }
  },
  {
   "cell_type": "code",
   "execution_count": 17,
   "outputs": [],
   "source": [
    "UniqueDotExporter(root, options=[\"rankdir=LR;\"]).to_picture(\"d-tree.png\")"
   ],
   "metadata": {
    "collapsed": false,
    "pycharm": {
     "name": "#%%\n"
    }
   }
  },
  {
   "cell_type": "code",
   "execution_count": 5,
   "outputs": [
    {
     "name": "stdout",
     "output_type": "stream",
     "text": [
      "{\n",
      "  \"id\": \"root\",\n",
      "  \"name\": \"Root\"\n",
      "}\n"
     ]
    }
   ],
   "source": [
    "exporter = JsonExporter(indent=2, sort_keys=True)\n",
    "print(exporter.export(root))"
   ],
   "metadata": {
    "collapsed": false,
    "pycharm": {
     "name": "#%%\n"
    }
   }
  },
  {
   "cell_type": "code",
   "execution_count": 2,
   "outputs": [
    {
     "name": "stdout",
     "output_type": "stream",
     "text": [
      "0 review_group ['review_group', 'length_of_stay', 'stay'] ['length_of_stay', 'stay']\n"
     ]
    },
    {
     "data": {
      "text/plain": "'{\\n  \"id\": \"root\",\\n  \"level\": 0,\\n  \"name\": \"Root\",\\n  \"weight\": \"\"\\n}'"
     },
     "execution_count": 2,
     "metadata": {},
     "output_type": "execute_result"
    }
   ],
   "source": [
    "from tree_from_assoc_rules import accumulate_node, export_json\n",
    "from anytree import AnyNode\n",
    "\n",
    "root = AnyNode(id=\"root\", name=\"Root\")\n",
    "factors = ['review_group', 'length_of_stay', 'stay']\n",
    "# factors = ['review_group']\n",
    "accumulate_node(root, factors)\n",
    "export_json(root)"
   ],
   "metadata": {
    "collapsed": false,
    "pycharm": {
     "name": "#%%\n"
    }
   }
  },
  {
   "cell_type": "code",
   "execution_count": 1,
   "outputs": [
    {
     "data": {
      "text/plain": "[1, 2, 3]"
     },
     "execution_count": 1,
     "metadata": {},
     "output_type": "execute_result"
    }
   ],
   "source": [
    "factors = ['review_group', 'length_of_stay', 'stay']\n",
    "weights = [3, 2, 1]\n",
    "\n",
    "# [x for _, x in sorted(zip(weight, factors))]\n",
    "[weight for (weight, factor) in sorted(zip(weights, factors), key=lambda pair: pair[0])]"
   ],
   "metadata": {
    "collapsed": false,
    "pycharm": {
     "name": "#%%\n"
    }
   }
  },
  {
   "cell_type": "code",
   "execution_count": 20,
   "outputs": [
    {
     "name": "stdout",
     "output_type": "stream",
     "text": [
      "{'positives': [{'id': 'someId', 'author': 'Ahmed Yasak', 'title': 'Away from the bustle', 'text': 'Located at the southeastern corner of Phuket, Cape Panwa was pretty quiet\\n                        during our visit. Sri Panwa was also not very occupied - there were much\\n                        more staff than visitors.\\n                        Stayed in the Pool Suite. Room was comfortable, with an iPod connected to\\n                        speakers available with decent music selection. Toiletries quite complete.\\n                        Staff were very, very courteous. 5/5 for the staff!', 'date': '2015-09-07'}], 'neutrals': [], 'negatives': []}\n"
     ]
    }
   ],
   "source": [
    "review = {\n",
    "    \"id\": \"someId\", \"author\": \"Ahmed Yasak\",\n",
    "    \"title\": \"Away from the bustle\",\n",
    "    \"text\": \"\"\"Located at the southeastern corner of Phuket, Cape Panwa was pretty quiet\n",
    "                        during our visit. Sri Panwa was also not very occupied - there were much\n",
    "                        more staff than visitors.\n",
    "                        Stayed in the Pool Suite. Room was comfortable, with an iPod connected to\n",
    "                        speakers available with decent music selection. Toiletries quite complete.\n",
    "                        Staff were very, very courteous. 5/5 for the staff!\"\"\",\n",
    "    \"date\": \"2015-09-07\",\n",
    "}\n",
    "x = {\"positives\": [review], \"neutrals\": [], \"negatives\": []}\n",
    "print(x)"
   ],
   "metadata": {
    "collapsed": false,
    "pycharm": {
     "name": "#%%\n"
    }
   }
  },
  {
   "cell_type": "code",
   "execution_count": 25,
   "outputs": [
    {
     "name": "stdout",
     "output_type": "stream",
     "text": [
      "stay\n",
      "DEC-FEB\n"
     ]
    }
   ],
   "source": [
    "x = [\"stay:DEC-FEB\", \"length_of_stay:1-7\", \"review_group:Couple\"]\n",
    "y = x[0]\n",
    "[a,b] = y.split(\":\")\n",
    "print(a)\n",
    "print(b)"
   ],
   "metadata": {
    "collapsed": false,
    "pycharm": {
     "name": "#%%\n"
    }
   }
  }
 ],
 "metadata": {
  "kernelspec": {
   "display_name": "Python 3",
   "language": "python",
   "name": "python3"
  },
  "language_info": {
   "codemirror_mode": {
    "name": "ipython",
    "version": 2
   },
   "file_extension": ".py",
   "mimetype": "text/x-python",
   "name": "python",
   "nbconvert_exporter": "python",
   "pygments_lexer": "ipython2",
   "version": "2.7.6"
  }
 },
 "nbformat": 4,
 "nbformat_minor": 0
}