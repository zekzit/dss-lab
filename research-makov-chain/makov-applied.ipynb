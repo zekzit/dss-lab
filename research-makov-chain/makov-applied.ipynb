{
 "cells": [
  {
   "cell_type": "markdown",
   "source": [
    "Imports and setup some variables"
   ],
   "metadata": {
    "collapsed": false,
    "pycharm": {
     "name": "#%% md\n"
    }
   }
  },
  {
   "cell_type": "code",
   "execution_count": 3,
   "metadata": {
    "collapsed": true,
    "pycharm": {
     "name": "#%%\n"
    }
   },
   "outputs": [],
   "source": [
    "import csv\n",
    "from itertools import permutations\n",
    "from tabulate import tabulate\n",
    "from tree_from_assoc_rules import __fetch_assoc_rule, __find_unique\n",
    "import time\n",
    "import numpy as np\n",
    "\n",
    "hotel_name = \"Baan Laimai Beach Resort & Spa\""
   ]
  },
  {
   "cell_type": "markdown",
   "source": [
    "Load possible values into variable `possible_values`"
   ],
   "metadata": {
    "collapsed": false,
    "pycharm": {
     "name": "#%% md\n"
    }
   }
  },
  {
   "cell_type": "code",
   "execution_count": 4,
   "outputs": [],
   "source": [
    "possible_values = []\n",
    "file = open('./possible_values.csv')\n",
    "\n",
    "for line in file.readlines():\n",
    "    possible_values.append(line.rstrip())\n",
    "file.close();"
   ],
   "metadata": {
    "collapsed": false,
    "pycharm": {
     "name": "#%%\n"
    }
   }
  },
  {
   "cell_type": "markdown",
   "source": [
    "Remove some factors to reduce number of possibility in this experiment"
   ],
   "metadata": {
    "collapsed": false,
    "pycharm": {
     "name": "#%% md\n"
    }
   }
  },
  {
   "cell_type": "code",
   "execution_count": 5,
   "outputs": [
    {
     "name": "stdout",
     "output_type": "stream",
     "text": [
      "['length_of_stay:1-7', 'length_of_stay:8-15', 'length_of_stay:>15', 'review_group:Business', 'review_group:Couple', 'review_group:Family', 'review_group:Group', 'review_group:Solo']\n"
     ]
    }
   ],
   "source": [
    "# Remove 3 types of parameters: country, room_type, stay\n",
    "# Remains: length_of_stay and review_group\n",
    "filtered_factors = list(filter(lambda x : not x.startswith(\"country\") and not x.startswith(\"room_type\") and not x.startswith(\"stay\"), possible_values))\n",
    "\n",
    "# Use it all!\n",
    "# filtered_factors = possible_values\n",
    "print(filtered_factors)"
   ],
   "metadata": {
    "collapsed": false,
    "pycharm": {
     "name": "#%%\n"
    }
   }
  },
  {
   "cell_type": "markdown",
   "source": [
    "Do permutation of factors with range of 2 for finding association rules"
   ],
   "metadata": {
    "collapsed": false,
    "pycharm": {
     "name": "#%% md\n"
    }
   }
  },
  {
   "cell_type": "code",
   "execution_count": 6,
   "outputs": [
    {
     "name": "stdout",
     "output_type": "stream",
     "text": [
      "Factor 1               Factor 2\n",
      "---------------------  ---------------------\n",
      "length_of_stay:1-7     length_of_stay:8-15\n",
      "length_of_stay:1-7     length_of_stay:>15\n",
      "length_of_stay:1-7     review_group:Business\n",
      "length_of_stay:1-7     review_group:Couple\n",
      "length_of_stay:1-7     review_group:Family\n",
      "length_of_stay:1-7     review_group:Group\n",
      "length_of_stay:1-7     review_group:Solo\n",
      "length_of_stay:8-15    length_of_stay:1-7\n",
      "length_of_stay:8-15    length_of_stay:>15\n",
      "length_of_stay:8-15    review_group:Business\n",
      "length_of_stay:8-15    review_group:Couple\n",
      "length_of_stay:8-15    review_group:Family\n",
      "length_of_stay:8-15    review_group:Group\n",
      "length_of_stay:8-15    review_group:Solo\n",
      "length_of_stay:>15     length_of_stay:1-7\n",
      "length_of_stay:>15     length_of_stay:8-15\n",
      "length_of_stay:>15     review_group:Business\n",
      "length_of_stay:>15     review_group:Couple\n",
      "length_of_stay:>15     review_group:Family\n",
      "length_of_stay:>15     review_group:Group\n",
      "length_of_stay:>15     review_group:Solo\n",
      "review_group:Business  length_of_stay:1-7\n",
      "review_group:Business  length_of_stay:8-15\n",
      "review_group:Business  length_of_stay:>15\n",
      "review_group:Business  review_group:Couple\n",
      "review_group:Business  review_group:Family\n",
      "review_group:Business  review_group:Group\n",
      "review_group:Business  review_group:Solo\n",
      "review_group:Couple    length_of_stay:1-7\n",
      "review_group:Couple    length_of_stay:8-15\n",
      "review_group:Couple    length_of_stay:>15\n",
      "review_group:Couple    review_group:Business\n",
      "review_group:Couple    review_group:Family\n",
      "review_group:Couple    review_group:Group\n",
      "review_group:Couple    review_group:Solo\n",
      "review_group:Family    length_of_stay:1-7\n",
      "review_group:Family    length_of_stay:8-15\n",
      "review_group:Family    length_of_stay:>15\n",
      "review_group:Family    review_group:Business\n",
      "review_group:Family    review_group:Couple\n",
      "review_group:Family    review_group:Group\n",
      "review_group:Family    review_group:Solo\n",
      "review_group:Group     length_of_stay:1-7\n",
      "review_group:Group     length_of_stay:8-15\n",
      "review_group:Group     length_of_stay:>15\n",
      "review_group:Group     review_group:Business\n",
      "review_group:Group     review_group:Couple\n",
      "review_group:Group     review_group:Family\n",
      "review_group:Group     review_group:Solo\n",
      "review_group:Solo      length_of_stay:1-7\n",
      "review_group:Solo      length_of_stay:8-15\n",
      "review_group:Solo      length_of_stay:>15\n",
      "review_group:Solo      review_group:Business\n",
      "review_group:Solo      review_group:Couple\n",
      "review_group:Solo      review_group:Family\n",
      "review_group:Solo      review_group:Group\n"
     ]
    }
   ],
   "source": [
    "perm = [list(x) for x in permutations(filtered_factors, 2) ]\n",
    "headers = [\"Factor 1\", \"Factor 2\", \"Confidence\", \"Lift\"]\n",
    "print(tabulate(list(perm), headers=headers))"
   ],
   "metadata": {
    "collapsed": false,
    "pycharm": {
     "name": "#%%\n"
    }
   }
  },
  {
   "cell_type": "markdown",
   "source": [
    "Match each pair of factors with association rule confidence and lift"
   ],
   "metadata": {
    "collapsed": false,
    "pycharm": {
     "name": "#%% md\n"
    }
   }
  },
  {
   "cell_type": "code",
   "execution_count": 7,
   "outputs": [
    {
     "name": "stdout",
     "output_type": "stream",
     "text": [
      "Factor 1               Factor 2                 Confidence      Lift\n",
      "---------------------  ---------------------  ------------  --------\n",
      "length_of_stay:1-7     length_of_stay:8-15\n",
      "length_of_stay:1-7     length_of_stay:>15\n",
      "length_of_stay:1-7     review_group:Business\n",
      "length_of_stay:1-7     review_group:Couple        0.666667   1.61905\n",
      "length_of_stay:1-7     review_group:Family        0.666667   3.2381\n",
      "length_of_stay:1-7     review_group:Group         1          3.77778\n",
      "length_of_stay:1-7     review_group:Solo          1         11.3333\n",
      "length_of_stay:8-15    length_of_stay:1-7\n",
      "length_of_stay:8-15    length_of_stay:>15\n",
      "length_of_stay:8-15    review_group:Business\n",
      "length_of_stay:8-15    review_group:Couple        1          2.42857\n",
      "length_of_stay:8-15    review_group:Family\n",
      "length_of_stay:8-15    review_group:Group         1          3.77778\n",
      "length_of_stay:8-15    review_group:Solo\n",
      "length_of_stay:>15     length_of_stay:1-7\n",
      "length_of_stay:>15     length_of_stay:8-15\n",
      "length_of_stay:>15     review_group:Business\n",
      "length_of_stay:>15     review_group:Couple\n",
      "length_of_stay:>15     review_group:Family\n",
      "length_of_stay:>15     review_group:Group\n",
      "length_of_stay:>15     review_group:Solo\n",
      "review_group:Business  length_of_stay:1-7\n",
      "review_group:Business  length_of_stay:8-15\n",
      "review_group:Business  length_of_stay:>15\n",
      "review_group:Business  review_group:Couple\n",
      "review_group:Business  review_group:Family\n",
      "review_group:Business  review_group:Group\n",
      "review_group:Business  review_group:Solo\n",
      "review_group:Couple    length_of_stay:1-7         1          2.19355\n",
      "review_group:Couple    length_of_stay:8-15\n",
      "review_group:Couple    length_of_stay:>15\n",
      "review_group:Couple    review_group:Business\n",
      "review_group:Couple    review_group:Family\n",
      "review_group:Couple    review_group:Group\n",
      "review_group:Couple    review_group:Solo\n",
      "review_group:Family    length_of_stay:1-7         1          2.19355\n",
      "review_group:Family    length_of_stay:8-15\n",
      "review_group:Family    length_of_stay:>15\n",
      "review_group:Family    review_group:Business\n",
      "review_group:Family    review_group:Couple\n",
      "review_group:Family    review_group:Group\n",
      "review_group:Family    review_group:Solo\n",
      "review_group:Group     length_of_stay:1-7         1          2.19355\n",
      "review_group:Group     length_of_stay:8-15        1         34\n",
      "review_group:Group     length_of_stay:>15\n",
      "review_group:Group     review_group:Business\n",
      "review_group:Group     review_group:Couple\n",
      "review_group:Group     review_group:Family\n",
      "review_group:Group     review_group:Solo\n",
      "review_group:Solo      length_of_stay:1-7         1          2.19355\n",
      "review_group:Solo      length_of_stay:8-15\n",
      "review_group:Solo      length_of_stay:>15\n",
      "review_group:Solo      review_group:Business\n",
      "review_group:Solo      review_group:Couple\n",
      "review_group:Solo      review_group:Family\n",
      "review_group:Solo      review_group:Group\n"
     ]
    }
   ],
   "source": [
    "for pair in perm:\n",
    "    rules = __fetch_assoc_rule(pair[0], pair[1], hotel_name=hotel_name) # rule = {\"confidence\": 1.0, \"lift\": 0.6}\n",
    "    found_rules_count = len(rules)\n",
    "    if found_rules_count > 0:\n",
    "        pair.append(rules[0][\"confidence\"] or 0)\n",
    "        pair.append(rules[0][\"lift\"] or 0)\n",
    "print(tabulate(list(perm), headers=headers))"
   ],
   "metadata": {
    "collapsed": false,
    "pycharm": {
     "name": "#%%\n"
    }
   }
  },
  {
   "cell_type": "markdown",
   "source": [
    "Create transition matrix of 2 types\n",
    " - transition_matrix = transition matrix with only confidence value\n",
    " - transition_matrix_confidence_lift = transition matrix for print, having label and pair of confidence and lift"
   ],
   "metadata": {
    "collapsed": false,
    "pycharm": {
     "name": "#%% md\n"
    }
   }
  },
  {
   "cell_type": "code",
   "execution_count": 8,
   "outputs": [],
   "source": [
    "factors_len = len(filtered_factors)\n",
    "transition_matrix = []\n",
    "transition_matrix_confidence_lift = []\n",
    "\n",
    "# Calculation of transition_matrix\n",
    "for i in range(factors_len):\n",
    "    row = []\n",
    "    for j in range(factors_len):\n",
    "        f1 = filtered_factors[i]\n",
    "        f2 = filtered_factors[j]\n",
    "        rule = next((x[2] for x in list(perm) if x[0] == f1 and x[1] == f2 and len(x) > 2), 0)\n",
    "        row.append(rule)\n",
    "    transition_matrix.append(row)\n",
    "\n",
    "# Calculation of transition_matrix_confidence_lift\n",
    "for i in range(factors_len):\n",
    "    row = []\n",
    "    for j in range(factors_len + 1):\n",
    "        if j == 0:\n",
    "            row.append(filtered_factors[i])\n",
    "        else:\n",
    "            f1 = filtered_factors[i]\n",
    "            f2 = filtered_factors[j-1]\n",
    "            rule = next(((x[2], x[3]) for x in list(perm) if x[0] == f1 and x[1] == f2 and len(x) > 2), (0,0))\n",
    "            row.append(rule)\n",
    "    transition_matrix_confidence_lift.append(row)"
   ],
   "metadata": {
    "collapsed": false,
    "pycharm": {
     "name": "#%%\n"
    }
   }
  },
  {
   "cell_type": "markdown",
   "source": [
    "Writing transition_matrix_confidence_lift to file for further inspection"
   ],
   "metadata": {
    "collapsed": false,
    "pycharm": {
     "name": "#%% md\n"
    }
   }
  },
  {
   "cell_type": "code",
   "execution_count": 9,
   "outputs": [],
   "source": [
    "# Write transition_matrix_confidence_lift to file\n",
    "timestr = time.strftime(\"%Y%m%d-%H%M%S\")\n",
    "f = open(\"out\"+timestr+\".tab\",\"w\")\n",
    "f.write(tabulate(list(transition_matrix_confidence_lift), headers=[\"\"] + filtered_factors, tablefmt=\"plain\"))\n",
    "f.close()"
   ],
   "metadata": {
    "collapsed": false,
    "pycharm": {
     "name": "#%%\n"
    }
   }
  },
  {
   "cell_type": "markdown",
   "source": [
    "Trying to plot state graph from transition matrix, which not quite work."
   ],
   "metadata": {
    "collapsed": false,
    "pycharm": {
     "name": "#%% md\n"
    }
   }
  },
  {
   "cell_type": "code",
   "execution_count": 10,
   "outputs": [
    {
     "name": "stdout",
     "output_type": "stream",
     "text": [
      "{'s0': 'C0', 's1': 'C1', 's2': 'C2', 's3': 'C3', 's4': 'C4', 's5': 'C5', 's6': 'C6', 's7': 'C7'}\n"
     ]
    },
    {
     "data": {
      "text/plain": "<Figure size 432x432 with 1 Axes>",
      "image/png": "[encoded data removed]"
     },
     "metadata": {},
     "output_type": "display_data"
    }
   ],
   "source": [
    "from hmmviz import TransGraph\n",
    "import pandas as pd\n",
    "import matplotlib.pyplot as plt\n",
    "\n",
    "colors = {f's{i}': f'C{i}' for i in range(len(filtered_factors))}\n",
    "print(colors)\n",
    "graph = TransGraph.from_array(transition_matrix, filtered_factors)\n",
    "plt.figure(figsize=(6, 6))\n",
    "graph.draw(edgecolors=colors, nodecolors=colors, nodelabels=False, edgewidths=2)\n",
    "plt.show()"
   ],
   "metadata": {
    "collapsed": false,
    "pycharm": {
     "name": "#%%\n"
    }
   }
  },
  {
   "cell_type": "markdown",
   "source": [
    "In this block, we will simulate user's selected weight choice with\n",
    "    length_of_stay = 0.8 and review_group = 0.2\n",
    "of filtered_factors = ['length_of_stay:1-7', 'length_of_stay:8-15', 'length_of_stay:>15', 'review_group:Business', 'review_group:Couple', 'review_group:Family', 'review_group:Group', 'review_group:Solo']\n",
    "\n",
    "So, we can create initial state array of Makov chain as\n",
    "    [0.8/3, 0.8/3, 0.8/3, 0.2/5, 0.2/5, 0.2/5, 0.2/5, 0.2/5]\n",
    "\n",
    "Then we can produce dot product of initial_state x transition_matrix as:\n",
    "    [0.09863014, 0.02465753, 0, 0, 0.2739726, 0.10958904, 0.32876712, 0.16438356]\n",
    "\n",
    "What we can tell of this result??\n",
    " - Don't know"
   ],
   "metadata": {
    "collapsed": false,
    "pycharm": {
     "name": "#%% md\n"
    }
   }
  },
  {
   "cell_type": "code",
   "execution_count": 11,
   "outputs": [
    {
     "name": "stdout",
     "output_type": "stream",
     "text": [
      "[0.16       0.04       0.         0.         0.44444444 0.17777778\n",
      " 0.53333333 0.26666667]\n",
      "[0.09863014 0.02465753 0.         0.         0.2739726  0.10958904\n",
      " 0.32876712 0.16438356]\n",
      "---------------------  ---------  ------\n",
      "length_of_stay:1-7     0.0986301  9.86%\n",
      "length_of_stay:8-15    0.0246575  2.47%\n",
      "length_of_stay:>15     0          0.0%\n",
      "review_group:Business  0          0.0%\n",
      "review_group:Couple    0.273973   27.4%\n",
      "review_group:Family    0.109589   10.96%\n",
      "review_group:Group     0.328767   32.88%\n",
      "review_group:Solo      0.164384   16.44%\n",
      "---------------------  ---------  ------\n"
     ]
    }
   ],
   "source": [
    "initial_state_array = [0.8/3, 0.8/3, 0.8/3, 0.2/5, 0.2/5, 0.2/5, 0.2/5, 0.2/5]\n",
    "initial_state = np.array(initial_state_array)\n",
    "transition_prob = np.array(transition_matrix)\n",
    "dot = initial_state.dot(transition_prob)\n",
    "print(dot)\n",
    "dot_norm_val = sum(dot)\n",
    "norm_prob = dot/dot_norm_val\n",
    "print(norm_prob)\n",
    "# print(norm_prob)\n",
    "\n",
    "p = [[v, norm_prob[filtered_factors.index(v)], str(round(norm_prob[filtered_factors.index(v)] * 100,2)) + \"%\"] for v in filtered_factors]\n",
    "print(tabulate(p))"
   ],
   "metadata": {
    "collapsed": false,
    "pycharm": {
     "name": "#%%\n"
    }
   }
  },
  {
   "cell_type": "code",
   "execution_count": 11,
   "outputs": [],
   "source": [],
   "metadata": {
    "collapsed": false,
    "pycharm": {
     "name": "#%%\n"
    }
   }
  },
  {
   "cell_type": "markdown",
   "source": [],
   "metadata": {
    "collapsed": false,
    "pycharm": {
     "name": "#%% md\n"
    }
   }
  }
 ],
 "metadata": {
  "kernelspec": {
   "display_name": "Python 3",
   "language": "python",
   "name": "python3"
  },
  "language_info": {
   "codemirror_mode": {
    "name": "ipython",
    "version": 2
   },
   "file_extension": ".py",
   "mimetype": "text/x-python",
   "name": "python",
   "nbconvert_exporter": "python",
   "pygments_lexer": "ipython2",
   "version": "2.7.6"
  }
 },
 "nbformat": 4,
 "nbformat_minor": 0
}